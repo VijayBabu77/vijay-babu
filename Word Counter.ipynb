{
 "cells": [
  {
   "cell_type": "code",
   "execution_count": 2,
   "id": "4ad31551-ddcd-4dd1-b1db-9844de72ef8c",
   "metadata": {},
   "outputs": [
    {
     "name": "stdout",
     "output_type": "stream",
     "text": [
      "Welcome to the Word Counter program!\n",
      "Please enter a sentence or paragraph to count the words.\n"
     ]
    },
    {
     "name": "stdin",
     "output_type": "stream",
     "text": [
      "Enter text:  \n"
     ]
    },
    {
     "name": "stdout",
     "output_type": "stream",
     "text": [
      "Error: You entered an empty text. Please enter some text to count the words.\n"
     ]
    }
   ],
   "source": [
    "# Function to count the number of words in a given text\n",
    "def count_words(text):\n",
    "    \"\"\"\n",
    "    This function takes a string 'text' as input and returns the number of words in the string.\n",
    "    Words are assumed to be separated by spaces.\n",
    "    \"\"\"\n",
    "    # Split the text into words using spaces as delimiter\n",
    "    words = text.split()\n",
    "    \n",
    "    # Return the length of the list (i.e., the number of words)\n",
    "    return len(words)\n",
    "\n",
    "def main():\n",
    "    \"\"\"\n",
    "    This is the main function that controls the flow of the word counter program.\n",
    "    It prompts the user for input and displays the word count.\n",
    "    \"\"\"\n",
    "    # Display a friendly prompt for the user to enter a sentence or paragraph\n",
    "    print(\"Welcome to the Word Counter program!\")\n",
    "    print(\"Please enter a sentence or paragraph to count the words.\")\n",
    "    \n",
    "    # Taking user input\n",
    "    user_input = input(\"Enter text: \")\n",
    "\n",
    "    # Check if the input is empty\n",
    "    if user_input.strip() == \"\":\n",
    "        # Handle empty input\n",
    "        print(\"Error: You entered an empty text. Please enter some text to count the words.\")\n",
    "    else:\n",
    "        # Call the count_words function to count the words in the input text\n",
    "        word_count = count_words(user_input)\n",
    "        \n",
    "        # Display the word count result to the user\n",
    "        print(f\"The number of words in your input is: {word_count}\")\n",
    "\n",
    "# Call the main function to start the program\n",
    "if __name__ == \"__main__\":\n",
    "    main()\n"
   ]
  },
  {
   "cell_type": "code",
   "execution_count": null,
   "id": "1ed4e526-3216-4888-90e3-206e77e6b741",
   "metadata": {},
   "outputs": [],
   "source": []
  }
 ],
 "metadata": {
  "kernelspec": {
   "display_name": "Python 3 (ipykernel)",
   "language": "python",
   "name": "python3"
  },
  "language_info": {
   "codemirror_mode": {
    "name": "ipython",
    "version": 3
   },
   "file_extension": ".py",
   "mimetype": "text/x-python",
   "name": "python",
   "nbconvert_exporter": "python",
   "pygments_lexer": "ipython3",
   "version": "3.12.4"
  }
 },
 "nbformat": 4,
 "nbformat_minor": 5
}
